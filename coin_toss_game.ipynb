{
 "cells": [
  {
   "cell_type": "markdown",
   "metadata": {},
   "source": [
    " ## Exercise 10 : Famous coin tossing game"
   ]
  },
  {
   "cell_type": "code",
   "execution_count": 7,
   "metadata": {},
   "outputs": [],
   "source": [
    "import math\n",
    "import numpy as np"
   ]
  },
  {
   "cell_type": "code",
   "execution_count": 8,
   "metadata": {},
   "outputs": [],
   "source": [
    "import matplotlib.pyplot as plt"
   ]
  },
  {
   "cell_type": "code",
   "execution_count": 9,
   "metadata": {},
   "outputs": [],
   "source": [
    "K = 10000\n",
    "max_tosses = 1000\n",
    "total_succes = 0\n",
    "cost = 15\n",
    "running_average_list = [] # for plotting\n",
    "gain_list = [] # for plotting"
   ]
  },
  {
   "cell_type": "code",
   "execution_count": 10,
   "metadata": {},
   "outputs": [],
   "source": [
    "# source : https://towardsdatascience.com/bernoulli-distribution-with-python-from-scratch-89fda3c822b\n",
    "def bernoulli(p,size=1):\n",
    "    \"\"\"\n",
    "    random variates\n",
    "    \"\"\"\n",
    "    rvs = np.array([])\n",
    "    for i in range(0,size):\n",
    "        if np.random.rand() <= p:\n",
    "            a=1\n",
    "            rvs = np.append(rvs,a)\n",
    "        else:\n",
    "            a=0\n",
    "            rvs = np.append(rvs,a)\n",
    "    return rvs"
   ]
  },
  {
   "cell_type": "code",
   "execution_count": 11,
   "metadata": {},
   "outputs": [],
   "source": [
    "file1 = open(\"C:\\\\Users\\\\Milan\\\\Documents\\\\Master hir 1\\\\Sem2\\\\Simulation\\\\Assignments\\\\Assignment 1\\\\Output_Drawing_BW_balls.txt\",\"w\") # OPEN OUTPUT FILE\n",
    "file1.write('Run' + '\\t' + 'gain' + '\\t' + 'Running avg' + '\\n') \n",
    "for k in range(1,K + 1):\n",
    "    count_success = 0\n",
    "    nr_tosses = 0\n",
    "    toss_outcome = []\n",
    "    while True:\n",
    "        toss_outcome.insert(nr_tosses,bernoulli(0.5))\n",
    "        nr_tosses += 1\n",
    "        if not toss_outcome[nr_tosses-1] == 1 and nr_tosses < max_tosses:\n",
    "            break\n",
    "    succes = 0\n",
    "    gain = math.pow(2, nr_tosses)\n",
    "    #keep gain in a loss for plotting : \n",
    "    gain_list.insert(k, gain)\n",
    "    if gain > cost:\n",
    "        succes = 1\n",
    "        total_succes += 1\n",
    "    running_average = total_succes/k\n",
    "    #keep it in a list for plotting :\n",
    "    running_average_list.insert(k, running_average) \n",
    "    #print('Run', k, 'gain', gain,  'Running_avg', running_average) # PRINT THE CURRENT NUMBER OF OFFSPRING \n",
    "    file1.write('%d' % k + '\\t' + '%d' % gain + '\\t' + '%f' % running_average + '\\n' ) # PRINT RESULTS IN OUPTUT FILE\n",
    "\n",
    "\n",
    "\n"
   ]
  },
  {
   "cell_type": "code",
   "execution_count": 13,
   "metadata": {},
   "outputs": [],
   "source": [
    "simulations = list(range(1,10000 + 1))"
   ]
  },
  {
   "cell_type": "code",
   "execution_count": 14,
   "metadata": {},
   "outputs": [
    {
     "data": {
      "image/png": "[encoded data removed]",
      "text/plain": [
       "<Figure size 864x288 with 2 Axes>"
      ]
     },
     "metadata": {
      "needs_background": "light"
     },
     "output_type": "display_data"
    }
   ],
   "source": [
    "def plot():\n",
    "        plt.figure(figsize = (12,4))\n",
    "        plt.subplot(1,2,1)\n",
    "\n",
    "        plt.xlabel('run')\n",
    "        plt.ylabel('Probability of succes')\n",
    "        plt.plot(simulations, running_average_list, \n",
    "                label='Running average Probability of success')\n",
    "        plt.legend()\n",
    "\n",
    "        plt.subplot(1,2,2)\n",
    "        plt.xlabel('run')\n",
    "        plt.ylabel('gain')\n",
    "        plt.plot(simulations, gain_list, \n",
    "                label='gain per run')\n",
    "        plt.legend()\n",
    "plot()\n",
    "        "
   ]
  },
  {
   "cell_type": "code",
   "execution_count": null,
   "metadata": {},
   "outputs": [],
   "source": []
  },
  {
   "cell_type": "code",
   "execution_count": null,
   "metadata": {},
   "outputs": [],
   "source": []
  },
  {
   "cell_type": "code",
   "execution_count": null,
   "metadata": {},
   "outputs": [],
   "source": []
  },
  {
   "cell_type": "code",
   "execution_count": null,
   "metadata": {},
   "outputs": [],
   "source": []
  },
  {
   "cell_type": "code",
   "execution_count": null,
   "metadata": {},
   "outputs": [],
   "source": []
  },
  {
   "cell_type": "code",
   "execution_count": null,
   "metadata": {},
   "outputs": [],
   "source": []
  },
  {
   "cell_type": "code",
   "execution_count": null,
   "metadata": {},
   "outputs": [],
   "source": []
  }
 ],
 "metadata": {
  "interpreter": {
   "hash": "43912da81c2ac405115636743b2c156ffb061d6b370b9e9a5ddc5e88927225b6"
  },
  "kernelspec": {
   "display_name": "Python 3.9.2 64-bit",
   "language": "python",
   "name": "python3"
  },
  "language_info": {
   "codemirror_mode": {
    "name": "ipython",
    "version": 3
   },
   "file_extension": ".py",
   "mimetype": "text/x-python",
   "name": "python",
   "nbconvert_exporter": "python",
   "pygments_lexer": "ipython3",
   "version": "3.9.2"
  },
  "orig_nbformat": 4
 },
 "nbformat": 4,
 "nbformat_minor": 2
}
